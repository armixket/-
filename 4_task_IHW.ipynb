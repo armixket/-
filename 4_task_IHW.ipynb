{
 "cells": [
  {
   "cell_type": "markdown",
   "metadata": {},
   "source": [
    "## Матстатистика - ИДЗ 1"
   ]
  },
  {
   "cell_type": "markdown",
   "metadata": {},
   "source": [
    "Пункт 4: моделирование величин *x* и *y*."
   ]
  },
  {
   "cell_type": "code",
   "execution_count": 1,
   "metadata": {},
   "outputs": [],
   "source": [
    "import random\n",
    "import numpy as np\n",
    "import matplotlib.pyplot as plt\n",
    "from sklearn.linear_model import LinearRegression\n",
    "from sklearn import metrics\n",
    "import pandas as pd\n",
    "from scipy import stats\n",
    "%matplotlib inline"
   ]
  },
  {
   "cell_type": "markdown",
   "metadata": {},
   "source": [
    "Сначала определим 2 функции, принимающие на вход значение величины, сэмплированной из равномерного распределения и выдающие соответсвующее значение *x* и *y*.\n",
    "\n",
    "Аналитически полученная обратная функция для моделирования *x* выдавала комплексные значения, поэтому воспользуемся аппроксимацией:"
   ]
  },
  {
   "cell_type": "code",
   "execution_count": 2,
   "metadata": {},
   "outputs": [
    {
     "data": {
      "text/plain": [
       "array([0.        , 0.0012505 , 0.00250199, ..., 0.99999301, 0.99999825,\n",
       "       1.        ])"
      ]
     },
     "execution_count": 2,
     "metadata": {},
     "output_type": "execute_result"
    }
   ],
   "source": [
    "# Fy = -0.75x^3 + 0.5x^2 + 1.25x\n",
    "\n",
    "x = [0.001 * i for i in range(1001)] # задаём 1000 точек отрезка [0,1] \n",
    "x = np.array(x)\n",
    "x = -0.75*x**3 + 0.5*x**2 + 1.25*x\n",
    "x"
   ]
  },
  {
   "cell_type": "code",
   "execution_count": 3,
   "metadata": {},
   "outputs": [],
   "source": [
    "# функция для моделирования x\n",
    "\n",
    "def X_model(xi, vector):\n",
    "    vector_delta = abs(vector - xi) # находим модуль разницы между величиной и значениями функции распределения\n",
    "    \n",
    "    return vector.flat[np.argmin(vector_delta)]"
   ]
  },
  {
   "cell_type": "code",
   "execution_count": 4,
   "metadata": {},
   "outputs": [],
   "source": [
    "# Fy = y^3\n",
    "# функция для моделирования y\n",
    "\n",
    "def Y_model(eta):\n",
    "    \n",
    "    return eta ** (1/3)"
   ]
  },
  {
   "cell_type": "markdown",
   "metadata": {},
   "source": [
    "Также создадим функцию для сэмплирования выборки *(х,y)* нужного объёма N"
   ]
  },
  {
   "cell_type": "code",
   "execution_count": 5,
   "metadata": {},
   "outputs": [],
   "source": [
    "def samplier(N):\n",
    "    Y_sample = []\n",
    "    X_sample = []\n",
    "    k = 0 # счётчик размера выборки\n",
    "    while k < N:\n",
    "        x_current = X_model(np.random.uniform(1,0,1),x)  # сэмплируем точку выборки X\n",
    "        y_current = Y_model(np.random.uniform(1,0,1))    # сэмплируем точку выборки Y\n",
    "        if y_current > x_current:                        # если полученная точка принадлежит области D\n",
    "            Y_sample.append(y_current)\n",
    "            X_sample.append(x_current)                   # добавляем её в набор\n",
    "            k += 1                                       # и увеличиваем счётчик на единицу\n",
    "    return [X_sample, Y_sample] # возвращаем список из двух векторов в виде списков"
   ]
  },
  {
   "cell_type": "markdown",
   "metadata": {},
   "source": [
    "## Моделирование случайных величин"
   ]
  },
  {
   "cell_type": "code",
   "execution_count": 6,
   "metadata": {},
   "outputs": [],
   "source": [
    "sample_20 = samplier(20)\n",
    "sample_50 = samplier(50)\n",
    "sample_100 = samplier(100)"
   ]
  },
  {
   "cell_type": "code",
   "execution_count": 7,
   "metadata": {},
   "outputs": [
    {
     "data": {
      "image/png": "[encoded data removed]",
      "text/plain": [
       "<Figure size 432x864 with 3 Axes>"
      ]
     },
     "metadata": {
      "needs_background": "light"
     },
     "output_type": "display_data"
    }
   ],
   "source": [
    "fig, ax = plt.subplots()\n",
    "\n",
    "plt.subplot(311)\n",
    "plt.scatter(np.array(sample_20[0]), np.array(sample_20[1]), c = 'pink')\n",
    "plt.xlim([0, 1])\n",
    "plt.ylim([0, 1])\n",
    "\n",
    "plt.title('N = 20') \n",
    "plt.ylabel('величина y')\n",
    "\n",
    "plt.subplot(312)\n",
    "plt.scatter(np.array(sample_50[0]), np.array(sample_50[1]), c = 'lightblue')\n",
    "plt.xlim([0, 1])\n",
    "plt.ylim([0, 1])\n",
    "\n",
    "plt.title('N = 50') \n",
    "plt.ylabel('величина y')\n",
    "\n",
    "plt.subplot(313)\n",
    "plt.scatter(np.array(sample_100[0]), np.array(sample_100[1]), c = 'violet')\n",
    "plt.xlim([0, 1])\n",
    "plt.ylim([0, 1])\n",
    "\n",
    "plt.title('N = 100') \n",
    "plt.xlabel('величина x')\n",
    "plt.ylabel('величина y')\n",
    "\n",
    "fig.set_figwidth(6)    \n",
    "fig.set_figheight(12)"
   ]
  },
  {
   "cell_type": "code",
   "execution_count": 8,
   "metadata": {},
   "outputs": [],
   "source": [
    "data_20 = pd.DataFrame({'X':sample_20[0],'Y':sample_20[1]})   # инициализируем модели\n",
    "X_20 = data_20.X.values\n",
    "y_20 = data_20.Y.values\n",
    "\n",
    "reg_20 = LinearRegression().fit(X_20.reshape(-1, 1), y_20)\n",
    "\n",
    "data_50 = pd.DataFrame({'X':sample_50[0],'Y':sample_50[1]})\n",
    "X_50 = data_50.X.values\n",
    "y_50 = data_50.Y.values\n",
    "\n",
    "reg_50 = LinearRegression().fit(X_50.reshape(-1, 1), y_50)\n",
    "\n",
    "data_100 = pd.DataFrame({'X':sample_100[0],'Y':sample_100[1]})\n",
    "X_100 = data_100.X.values\n",
    "y_100 = data_100.Y.values\n",
    "\n",
    "reg_100 = LinearRegression().fit(X_100.reshape(-1, 1), y_100)"
   ]
  },
  {
   "cell_type": "code",
   "execution_count": 77,
   "metadata": {},
   "outputs": [],
   "source": [
    "def regression_coef(model, X, y, N):\n",
    "    # создаём датафрейм, в котором одна колонка - название коэффициентов, другая - их величина\n",
    "    coef = pd.DataFrame({'predictor':['intercept', 'X'], 'coef':[model.intercept_, model.coef_[0]]})\n",
    "    \n",
    "    X1 = np.append(X.reshape(-1, 1), np.ones((len(X),1)), axis=1)\n",
    "\n",
    "    RSS = metrics.mean_squared_error(y, model.predict(X.reshape(-1, 1))) * N / (N-1)\n",
    "    var_b = RSS * (np.linalg.inv(np.dot(X1.T, X1)).diagonal())\n",
    "    sd_b = np.sqrt(var_b)\n",
    "    \n",
    "    t = np.array([reg_20.intercept_, reg_20.coef_[0]])/ sd_b\n",
    "    coef['pvalue'] = [2 * (1 - stats.t.cdf(np.abs(i), (N - 1))) for i in t]\n",
    "    coef['is_significant'] = coef['pvalue'] < 0.01\n",
    "    return coef"
   ]
  },
  {
   "cell_type": "markdown",
   "metadata": {},
   "source": [
    "## N = 20"
   ]
  },
  {
   "cell_type": "code",
   "execution_count": 78,
   "metadata": {},
   "outputs": [
    {
     "data": {
      "text/html": [
       "<div>\n",
       "<style scoped>\n",
       "    .dataframe tbody tr th:only-of-type {\n",
       "        vertical-align: middle;\n",
       "    }\n",
       "\n",
       "    .dataframe tbody tr th {\n",
       "        vertical-align: top;\n",
       "    }\n",
       "\n",
       "    .dataframe thead th {\n",
       "        text-align: right;\n",
       "    }\n",
       "</style>\n",
       "<table border=\"1\" class=\"dataframe\">\n",
       "  <thead>\n",
       "    <tr style=\"text-align: right;\">\n",
       "      <th></th>\n",
       "      <th>predictor</th>\n",
       "      <th>coef</th>\n",
       "      <th>pvalue</th>\n",
       "      <th>is_significant</th>\n",
       "    </tr>\n",
       "  </thead>\n",
       "  <tbody>\n",
       "    <tr>\n",
       "      <th>0</th>\n",
       "      <td>intercept</td>\n",
       "      <td>0.748693</td>\n",
       "      <td>0.000001</td>\n",
       "      <td>True</td>\n",
       "    </tr>\n",
       "    <tr>\n",
       "      <th>1</th>\n",
       "      <td>X</td>\n",
       "      <td>0.177058</td>\n",
       "      <td>0.009156</td>\n",
       "      <td>True</td>\n",
       "    </tr>\n",
       "  </tbody>\n",
       "</table>\n",
       "</div>"
      ],
      "text/plain": [
       "   predictor      coef    pvalue  is_significant\n",
       "0  intercept  0.748693  0.000001            True\n",
       "1          X  0.177058  0.009156            True"
      ]
     },
     "execution_count": 78,
     "metadata": {},
     "output_type": "execute_result"
    }
   ],
   "source": [
    "regression_coef(reg_20, X_20, y_20,20)"
   ]
  },
  {
   "cell_type": "code",
   "execution_count": 37,
   "metadata": {},
   "outputs": [
    {
     "name": "stdout",
     "output_type": "stream",
     "text": [
      "Регрессионная прямая (МНК) для N=20 будет иметь вид:\n",
      "Y= 0.7486932336543821 + 0.17705830251166857 X\n",
      "RSS равен: 0.3026749104328217\n",
      "Var исправленная равна: 0.01593025844383272\n",
      "R^2 равен: 0.12578299048856756\n"
     ]
    }
   ],
   "source": [
    "print('Регрессионная прямая (МНК) для N=20 будет иметь вид:')\n",
    "print('Y=',reg_20.intercept_, '+', reg_20.coef_[0],'X')\n",
    "RSS_20 = metrics.mean_squared_error(y_20, reg_20.predict(X_20.reshape(-1, 1))) * 20\n",
    "print('RSS равен:',RSS_20)\n",
    "print('Var исправленная равна:', RSS_20/19)\n",
    "print('R^2 равен:', reg_20.score(X_20.reshape(-1, 1),y_20))"
   ]
  },
  {
   "cell_type": "markdown",
   "metadata": {},
   "source": [
    "## N = 50"
   ]
  },
  {
   "cell_type": "code",
   "execution_count": 79,
   "metadata": {},
   "outputs": [
    {
     "data": {
      "text/html": [
       "<div>\n",
       "<style scoped>\n",
       "    .dataframe tbody tr th:only-of-type {\n",
       "        vertical-align: middle;\n",
       "    }\n",
       "\n",
       "    .dataframe tbody tr th {\n",
       "        vertical-align: top;\n",
       "    }\n",
       "\n",
       "    .dataframe thead th {\n",
       "        text-align: right;\n",
       "    }\n",
       "</style>\n",
       "<table border=\"1\" class=\"dataframe\">\n",
       "  <thead>\n",
       "    <tr style=\"text-align: right;\">\n",
       "      <th></th>\n",
       "      <th>predictor</th>\n",
       "      <th>coef</th>\n",
       "      <th>pvalue</th>\n",
       "      <th>is_significant</th>\n",
       "    </tr>\n",
       "  </thead>\n",
       "  <tbody>\n",
       "    <tr>\n",
       "      <th>0</th>\n",
       "      <td>intercept</td>\n",
       "      <td>0.674155</td>\n",
       "      <td>9.547918e-15</td>\n",
       "      <td>True</td>\n",
       "    </tr>\n",
       "    <tr>\n",
       "      <th>1</th>\n",
       "      <td>X</td>\n",
       "      <td>0.295135</td>\n",
       "      <td>3.437372e-06</td>\n",
       "      <td>True</td>\n",
       "    </tr>\n",
       "  </tbody>\n",
       "</table>\n",
       "</div>"
      ],
      "text/plain": [
       "   predictor      coef        pvalue  is_significant\n",
       "0  intercept  0.674155  9.547918e-15            True\n",
       "1          X  0.295135  3.437372e-06            True"
      ]
     },
     "execution_count": 79,
     "metadata": {},
     "output_type": "execute_result"
    }
   ],
   "source": [
    "regression_coef(reg_50, X_50, y_50,50)"
   ]
  },
  {
   "cell_type": "code",
   "execution_count": 82,
   "metadata": {},
   "outputs": [
    {
     "name": "stdout",
     "output_type": "stream",
     "text": [
      "Регрессионная прямая (МНК) для N=50 будет иметь вид:\n",
      "Y= 0.6741549175276168 + 0.2951353664387125 X\n",
      "RSS равен: 0.9282089185798743\n",
      "Var исправленная равна: 0.018943039154691314\n",
      "R^2 равен: 0.2749914603034782\n"
     ]
    }
   ],
   "source": [
    "print('Регрессионная прямая (МНК) для N=50 будет иметь вид:')\n",
    "print('Y=',reg_50.intercept_, '+', reg_50.coef_[0],'X')\n",
    "RSS_50 = metrics.mean_squared_error(y_50, reg_50.predict(X_50.reshape(-1, 1))) * 50\n",
    "print('RSS равен:',RSS_50)\n",
    "print('Var исправленная равна:', RSS_50/49)\n",
    "print('R^2 равен:', reg_50.score(X_50.reshape(-1, 1),y_50))"
   ]
  },
  {
   "cell_type": "markdown",
   "metadata": {},
   "source": [
    "## N = 100"
   ]
  },
  {
   "cell_type": "code",
   "execution_count": 80,
   "metadata": {},
   "outputs": [
    {
     "data": {
      "text/html": [
       "<div>\n",
       "<style scoped>\n",
       "    .dataframe tbody tr th:only-of-type {\n",
       "        vertical-align: middle;\n",
       "    }\n",
       "\n",
       "    .dataframe tbody tr th {\n",
       "        vertical-align: top;\n",
       "    }\n",
       "\n",
       "    .dataframe thead th {\n",
       "        text-align: right;\n",
       "    }\n",
       "</style>\n",
       "<table border=\"1\" class=\"dataframe\">\n",
       "  <thead>\n",
       "    <tr style=\"text-align: right;\">\n",
       "      <th></th>\n",
       "      <th>predictor</th>\n",
       "      <th>coef</th>\n",
       "      <th>pvalue</th>\n",
       "      <th>is_significant</th>\n",
       "    </tr>\n",
       "  </thead>\n",
       "  <tbody>\n",
       "    <tr>\n",
       "      <th>0</th>\n",
       "      <td>intercept</td>\n",
       "      <td>0.741412</td>\n",
       "      <td>0.000000e+00</td>\n",
       "      <td>True</td>\n",
       "    </tr>\n",
       "    <tr>\n",
       "      <th>1</th>\n",
       "      <td>X</td>\n",
       "      <td>0.202912</td>\n",
       "      <td>1.501104e-08</td>\n",
       "      <td>True</td>\n",
       "    </tr>\n",
       "  </tbody>\n",
       "</table>\n",
       "</div>"
      ],
      "text/plain": [
       "   predictor      coef        pvalue  is_significant\n",
       "0  intercept  0.741412  0.000000e+00            True\n",
       "1          X  0.202912  1.501104e-08            True"
      ]
     },
     "execution_count": 80,
     "metadata": {},
     "output_type": "execute_result"
    }
   ],
   "source": [
    "regression_coef(reg_100, X_100, y_100,100)"
   ]
  },
  {
   "cell_type": "code",
   "execution_count": 83,
   "metadata": {},
   "outputs": [
    {
     "name": "stdout",
     "output_type": "stream",
     "text": [
      "Регрессионная прямая (МНК) для N=100 будет иметь вид:\n",
      "Y= 0.74141243441721 + 0.20291211814300805 X\n",
      "RSS равен: 2.4776474983269123\n",
      "Var исправленная равна: 0.02502674240734255\n",
      "R^2 равен: 0.09791254175021846\n"
     ]
    }
   ],
   "source": [
    "print('Регрессионная прямая (МНК) для N=100 будет иметь вид:')\n",
    "print('Y=',reg_100.intercept_, '+', reg_100.coef_[0],'X')\n",
    "RSS_100 = metrics.mean_squared_error(y_100, reg_100.predict(X_100.reshape(-1, 1))) * 100\n",
    "print('RSS равен:',RSS_100)\n",
    "print('Var исправленная равна:', RSS_100/99)\n",
    "print('R^2 равен:', reg_100.score(X_100.reshape(-1, 1),y_100))"
   ]
  },
  {
   "cell_type": "markdown",
   "metadata": {},
   "source": [
    "## Сравнение МНК-оценок с proj<1,x>(Y)"
   ]
  },
  {
   "cell_type": "code",
   "execution_count": 98,
   "metadata": {},
   "outputs": [
    {
     "data": {
      "image/png": "[encoded data removed]",
      "text/plain": [
       "<Figure size 432x864 with 3 Axes>"
      ]
     },
     "metadata": {
      "needs_background": "light"
     },
     "output_type": "display_data"
    }
   ],
   "source": [
    "fig, ax = plt.subplots()\n",
    "\n",
    "plt.subplot(311)\n",
    "plt.scatter(np.array(sample_20[0]), np.array(sample_20[1]), c = 'pink')\n",
    "plt.xlim([0, 1])\n",
    "plt.ylim([0, 1])\n",
    "\n",
    "x = np.linspace(0, 1, 100)\n",
    "h = 0.7486932336543821 + 0.17705830251166857 * x # МНК - оценка N = 20\n",
    "g = 0.6741549175276168 + 0.2951353664387125 * x # МНК - оценка N = 50\n",
    "f = 0.74141243441721 + 0.20291211814300805 * x # МНК - оценка N = 100\n",
    "z = 428/691 + 228/691 * x # proj<1,x>(Y)\n",
    "\n",
    "plt.plot(x,z,\n",
    "        color = 'grey',\n",
    "        linestyle = 'dashed') \n",
    "plt.plot(x,h,\n",
    "        color = 'black') \n",
    "plt.title('N = 20') \n",
    "plt.ylabel('величина y')\n",
    "\n",
    "plt.subplot(312)\n",
    "plt.scatter(np.array(sample_50[0]), np.array(sample_50[1]), c = 'lightblue')\n",
    "plt.xlim([0, 1])\n",
    "plt.ylim([0, 1])\n",
    "\n",
    "plt.plot(x,z,\n",
    "        color = 'grey',\n",
    "        linestyle = 'dashed') \n",
    "plt.plot(x,g,\n",
    "        color = 'black') \n",
    "\n",
    "plt.title('N = 50') \n",
    "plt.ylabel('величина y')\n",
    "\n",
    "plt.subplot(313)\n",
    "plt.scatter(np.array(sample_100[0]), np.array(sample_100[1]), c = 'violet')\n",
    "plt.xlim([0, 1])\n",
    "plt.ylim([0, 1])\n",
    "\n",
    "plt.plot(x,z,\n",
    "        color = 'grey',\n",
    "        linestyle = 'dashed') \n",
    "plt.plot(x,f,\n",
    "        color = 'black') \n",
    "\n",
    "plt.title('N = 100') \n",
    "plt.xlabel('величина x')\n",
    "plt.ylabel('величина y')\n",
    "plt.legend(['proj<1,x>(Y)', 'МНК - оценка'])\n",
    "\n",
    "fig.set_figwidth(6)    \n",
    "fig.set_figheight(12)"
   ]
  }
 ],
 "metadata": {
  "kernelspec": {
   "display_name": "Python 3",
   "language": "python",
   "name": "python3"
  },
  "language_info": {
   "codemirror_mode": {
    "name": "ipython",
    "version": 3
   },
   "file_extension": ".py",
   "mimetype": "text/x-python",
   "name": "python",
   "nbconvert_exporter": "python",
   "pygments_lexer": "ipython3",
   "version": "3.8.5"
  }
 },
 "nbformat": 4,
 "nbformat_minor": 4
}

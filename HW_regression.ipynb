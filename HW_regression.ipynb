{
 "cells": [
  {
   "cell_type": "markdown",
   "metadata": {},
   "source": [
    "## Матстатистика - Домашнее задание\n",
    "Задача 4"
   ]
  },
  {
   "cell_type": "code",
   "execution_count": 65,
   "metadata": {},
   "outputs": [],
   "source": [
    "import random\n",
    "import numpy as np\n",
    "import matplotlib.pyplot as plt\n",
    "from sklearn.linear_model import LinearRegression\n",
    "from sklearn import metrics\n",
    "import pandas as pd\n",
    "from scipy import stats\n",
    "%matplotlib inline"
   ]
  },
  {
   "cell_type": "code",
   "execution_count": 25,
   "metadata": {},
   "outputs": [
    {
     "data": {
      "text/html": [
       "<div>\n",
       "<style scoped>\n",
       "    .dataframe tbody tr th:only-of-type {\n",
       "        vertical-align: middle;\n",
       "    }\n",
       "\n",
       "    .dataframe tbody tr th {\n",
       "        vertical-align: top;\n",
       "    }\n",
       "\n",
       "    .dataframe thead th {\n",
       "        text-align: right;\n",
       "    }\n",
       "</style>\n",
       "<table border=\"1\" class=\"dataframe\">\n",
       "  <thead>\n",
       "    <tr style=\"text-align: right;\">\n",
       "      <th></th>\n",
       "      <th>X1</th>\n",
       "      <th>X2</th>\n",
       "      <th>X3</th>\n",
       "      <th>X4</th>\n",
       "      <th>Y</th>\n",
       "    </tr>\n",
       "  </thead>\n",
       "  <tbody>\n",
       "    <tr>\n",
       "      <th>0</th>\n",
       "      <td>6</td>\n",
       "      <td>5</td>\n",
       "      <td>8</td>\n",
       "      <td>10</td>\n",
       "      <td>7</td>\n",
       "    </tr>\n",
       "    <tr>\n",
       "      <th>1</th>\n",
       "      <td>0</td>\n",
       "      <td>1</td>\n",
       "      <td>2</td>\n",
       "      <td>3</td>\n",
       "      <td>0</td>\n",
       "    </tr>\n",
       "    <tr>\n",
       "      <th>2</th>\n",
       "      <td>10</td>\n",
       "      <td>5</td>\n",
       "      <td>6</td>\n",
       "      <td>10</td>\n",
       "      <td>1</td>\n",
       "    </tr>\n",
       "    <tr>\n",
       "      <th>3</th>\n",
       "      <td>7</td>\n",
       "      <td>3</td>\n",
       "      <td>8</td>\n",
       "      <td>9</td>\n",
       "      <td>8</td>\n",
       "    </tr>\n",
       "    <tr>\n",
       "      <th>4</th>\n",
       "      <td>10</td>\n",
       "      <td>5</td>\n",
       "      <td>7</td>\n",
       "      <td>9</td>\n",
       "      <td>4</td>\n",
       "    </tr>\n",
       "  </tbody>\n",
       "</table>\n",
       "</div>"
      ],
      "text/plain": [
       "   X1  X2  X3  X4  Y\n",
       "0   6   5   8  10  7\n",
       "1   0   1   2   3  0\n",
       "2  10   5   6  10  1\n",
       "3   7   3   8   9  8\n",
       "4  10   5   7   9  4"
      ]
     },
     "execution_count": 25,
     "metadata": {},
     "output_type": "execute_result"
    }
   ],
   "source": [
    "data = pd.read_csv('Data.txt', sep=\"\\s+\")\n",
    "data.head()"
   ]
  },
  {
   "cell_type": "markdown",
   "metadata": {},
   "source": [
    "а) Построить модель линейной регрессии Y на X1,X2,X3,X4"
   ]
  },
  {
   "cell_type": "code",
   "execution_count": 26,
   "metadata": {},
   "outputs": [],
   "source": [
    "Y = data['Y'].values\n",
    "X = data.iloc[:,:4].values # переводим столбцы в матрицы\n",
    "\n",
    "reg = LinearRegression().fit(X, Y) # инициализируем модель линейной регрессии"
   ]
  },
  {
   "cell_type": "code",
   "execution_count": 55,
   "metadata": {},
   "outputs": [],
   "source": [
    "def regression_coef(model, X, y, N, preds):\n",
    "    # создаём датафрейм, в котором одна колонка - название коэффициентов, другая - их величина\n",
    "    coef_list = [model.intercept_]\n",
    "    for i in range(len(model.coef_)):\n",
    "        coef_list.append(model.coef_[i])\n",
    "    coef = pd.DataFrame({'predictor':preds, \n",
    "                         'coef':coef_list})\n",
    "    \n",
    "    MSE = metrics.mean_squared_error(y, model.predict(X))\n",
    "    Var = MSE/(N-1)\n",
    "\n",
    "    sd = np.sqrt(Var)\n",
    "    t = np.array(coef_list)/ sd\n",
    "    coef['pvalue'] = [2 * (1 - stats.t.cdf(np.abs(i), (N - 1))) for i in t]\n",
    "    coef['is_significant'] = coef['pvalue'] < 0.05\n",
    "    return coef"
   ]
  },
  {
   "cell_type": "code",
   "execution_count": 56,
   "metadata": {},
   "outputs": [
    {
     "data": {
      "text/html": [
       "<div>\n",
       "<style scoped>\n",
       "    .dataframe tbody tr th:only-of-type {\n",
       "        vertical-align: middle;\n",
       "    }\n",
       "\n",
       "    .dataframe tbody tr th {\n",
       "        vertical-align: top;\n",
       "    }\n",
       "\n",
       "    .dataframe thead th {\n",
       "        text-align: right;\n",
       "    }\n",
       "</style>\n",
       "<table border=\"1\" class=\"dataframe\">\n",
       "  <thead>\n",
       "    <tr style=\"text-align: right;\">\n",
       "      <th></th>\n",
       "      <th>predictor</th>\n",
       "      <th>coef</th>\n",
       "      <th>pvalue</th>\n",
       "      <th>is_significant</th>\n",
       "    </tr>\n",
       "  </thead>\n",
       "  <tbody>\n",
       "    <tr>\n",
       "      <th>0</th>\n",
       "      <td>intercept</td>\n",
       "      <td>-0.084681</td>\n",
       "      <td>0.831554</td>\n",
       "      <td>False</td>\n",
       "    </tr>\n",
       "    <tr>\n",
       "      <th>1</th>\n",
       "      <td>X1</td>\n",
       "      <td>-0.083832</td>\n",
       "      <td>0.833216</td>\n",
       "      <td>False</td>\n",
       "    </tr>\n",
       "    <tr>\n",
       "      <th>2</th>\n",
       "      <td>X2</td>\n",
       "      <td>0.580891</td>\n",
       "      <td>0.152518</td>\n",
       "      <td>False</td>\n",
       "    </tr>\n",
       "    <tr>\n",
       "      <th>3</th>\n",
       "      <td>X3</td>\n",
       "      <td>0.226566</td>\n",
       "      <td>0.570325</td>\n",
       "      <td>False</td>\n",
       "    </tr>\n",
       "    <tr>\n",
       "      <th>4</th>\n",
       "      <td>X4</td>\n",
       "      <td>0.259176</td>\n",
       "      <td>0.516574</td>\n",
       "      <td>False</td>\n",
       "    </tr>\n",
       "  </tbody>\n",
       "</table>\n",
       "</div>"
      ],
      "text/plain": [
       "   predictor      coef    pvalue  is_significant\n",
       "0  intercept -0.084681  0.831554           False\n",
       "1         X1 -0.083832  0.833216           False\n",
       "2         X2  0.580891  0.152518           False\n",
       "3         X3  0.226566  0.570325           False\n",
       "4         X4  0.259176  0.516574           False"
      ]
     },
     "execution_count": 56,
     "metadata": {},
     "output_type": "execute_result"
    }
   ],
   "source": [
    "regression_coef(reg, X, Y, len(Y), ['intercept', 'X1', 'X2', 'X3', 'X4'])"
   ]
  },
  {
   "cell_type": "code",
   "execution_count": 61,
   "metadata": {},
   "outputs": [
    {
     "name": "stdout",
     "output_type": "stream",
     "text": [
      "Регрессионная прямая (МНК) Y на X1,X2,X3,X4 будет иметь вид:\n",
      "Y= -0.08468064838652545 + -0.08383160512464581 X1 + 0.5808913894916059 X2 + 0.22656637039900562 X3 + 0.25917571687868457 X4\n",
      "RSS равен: 4.038644066025206\n",
      "Var исправленная равна: 0.15533246407789256\n",
      "R^2 равен: 0.35292933535552184\n"
     ]
    }
   ],
   "source": [
    "print('Регрессионная прямая (МНК) Y на X1,X2,X3,X4 будет иметь вид:')\n",
    "print('Y=',reg.intercept_, '+', reg.coef_[0],'X1', '+', reg.coef_[1],'X2', '+', reg.coef_[2],'X3', '+', reg.coef_[3],'X4')\n",
    "RSS_1 = metrics.mean_squared_error(Y, reg.predict(X))\n",
    "print('RSS равен:',RSS_1)\n",
    "print('Var исправленная равна:', RSS_1/(len(Y)-1))\n",
    "print('R^2 равен:', reg.score(X,Y))"
   ]
  },
  {
   "cell_type": "markdown",
   "metadata": {},
   "source": [
    "б) Определить, какую из компонент лучше всего выбрать в качетсве главной объясняющей компоненты и, рассматривая парную регрессию с ней, вычислить коэффициенты по МНК и объяснить их значимость\n",
    "\n",
    "В модели множественной регрессии ни один коэффициент не является значимым. Однако коэффициент при X2 обладает наибольшим по модулю значением и наименьшим p-value для t-test. Следовательно, X2 вносит наобольший вес в объяснение Y."
   ]
  },
  {
   "cell_type": "code",
   "execution_count": 83,
   "metadata": {},
   "outputs": [
    {
     "data": {
      "text/html": [
       "<div>\n",
       "<style scoped>\n",
       "    .dataframe tbody tr th:only-of-type {\n",
       "        vertical-align: middle;\n",
       "    }\n",
       "\n",
       "    .dataframe tbody tr th {\n",
       "        vertical-align: top;\n",
       "    }\n",
       "\n",
       "    .dataframe thead th {\n",
       "        text-align: right;\n",
       "    }\n",
       "</style>\n",
       "<table border=\"1\" class=\"dataframe\">\n",
       "  <thead>\n",
       "    <tr style=\"text-align: right;\">\n",
       "      <th></th>\n",
       "      <th>predictor</th>\n",
       "      <th>coef</th>\n",
       "      <th>pvalue</th>\n",
       "      <th>is_significant</th>\n",
       "    </tr>\n",
       "  </thead>\n",
       "  <tbody>\n",
       "    <tr>\n",
       "      <th>0</th>\n",
       "      <td>intercept</td>\n",
       "      <td>2.39687</td>\n",
       "      <td>0.000003</td>\n",
       "      <td>True</td>\n",
       "    </tr>\n",
       "    <tr>\n",
       "      <th>1</th>\n",
       "      <td>X2</td>\n",
       "      <td>0.74679</td>\n",
       "      <td>0.078908</td>\n",
       "      <td>False</td>\n",
       "    </tr>\n",
       "  </tbody>\n",
       "</table>\n",
       "</div>"
      ],
      "text/plain": [
       "   predictor     coef    pvalue  is_significant\n",
       "0  intercept  2.39687  0.000003            True\n",
       "1         X2  0.74679  0.078908           False"
      ]
     },
     "execution_count": 83,
     "metadata": {},
     "output_type": "execute_result"
    }
   ],
   "source": [
    "reg_X2 = LinearRegression().fit(data['X2'].values.reshape(-1,1), Y)\n",
    "regression_coef(reg_X2, data['X2'].values.reshape(-1,1), Y, len(Y), ['intercept', 'X2'])"
   ]
  },
  {
   "cell_type": "markdown",
   "metadata": {},
   "source": [
    "На уровне значимости 5 % коэффициент предиктора не является значимым, однако значение p-value близко к 5 % (сократилось более, чем в 2 раза по сравнению с предыдущим пунктом). "
   ]
  },
  {
   "cell_type": "code",
   "execution_count": 63,
   "metadata": {},
   "outputs": [
    {
     "name": "stdout",
     "output_type": "stream",
     "text": [
      "Регрессионная прямая (МНК) Y на X2 иметь вид:\n",
      "Y= 2.396869983948635 + 0.7467897271268059 X2\n",
      "RSS равен: 4.3350127816419946\n",
      "Var исправленная равна: 0.1667312608323844\n",
      "R^2 равен: 0.3054452048753814\n"
     ]
    }
   ],
   "source": [
    "print('Регрессионная прямая (МНК) Y на X2 иметь вид:')\n",
    "print('Y=',reg_X2.intercept_, '+', reg_X2.coef_[0],'X2')\n",
    "RSS_2 = metrics.mean_squared_error(Y, reg_X2.predict(data['X2'].values.reshape(-1,1)))\n",
    "print('RSS равен:',RSS_2)\n",
    "print('Var исправленная равна:', RSS_2/(len(Y)-1))\n",
    "print('R^2 равен:', reg_X2.score(data['X2'].values.reshape(-1,1),Y))"
   ]
  },
  {
   "cell_type": "markdown",
   "metadata": {},
   "source": [
    "c) RSS, R^2 и Var расчитаны выше"
   ]
  }
 ],
 "metadata": {
  "kernelspec": {
   "display_name": "Python 3",
   "language": "python",
   "name": "python3"
  },
  "language_info": {
   "codemirror_mode": {
    "name": "ipython",
    "version": 3
   },
   "file_extension": ".py",
   "mimetype": "text/x-python",
   "name": "python",
   "nbconvert_exporter": "python",
   "pygments_lexer": "ipython3",
   "version": "3.8.5"
  }
 },
 "nbformat": 4,
 "nbformat_minor": 4
}
